{
 "cells": [
  {
   "cell_type": "markdown",
   "id": "7ed3e9ae-4a55-4eaa-9b03-bb35b0b053ae",
   "metadata": {},
   "source": [
    "df link: https://www.kaggle.com/datasets/purusinghvi/email-spam-classification-dataset/"
   ]
  },
  {
   "cell_type": "code",
   "execution_count": 70,
   "id": "9f1bdb1f-cea6-4eef-b8a9-2e68f81a3994",
   "metadata": {},
   "outputs": [],
   "source": [
    "import numpy as np\n",
    "import re\n",
    "import pandas as pd\n",
    "from nltk.tokenize import word_tokenize\n",
    "from nltk.corpus import stopwords\n",
    "from sklearn.feature_extraction.text import TfidfVectorizer\n",
    "from sklearn.linear_model import LogisticRegression\n",
    "from sklearn.model_selection import train_test_split\n",
    "from sklearn.metrics import accuracy_score, confusion_matrix"
   ]
  },
  {
   "cell_type": "code",
   "execution_count": 52,
   "id": "f7c08679-270e-40bb-bdb9-c765fa905ffb",
   "metadata": {},
   "outputs": [
    {
     "name": "stdout",
     "output_type": "stream",
     "text": [
      "this is the data size: 166896 and shape: (83448, 2)\n"
     ]
    }
   ],
   "source": [
    "data = pd.read_csv('C:\\\\Users\\\\Jozef\\\\Downloads\\\\email spam classification\\\\combined_data.csv')\n",
    "\n",
    "print(f'this is the data size: {data.size} and shape: {data.shape}')"
   ]
  },
  {
   "cell_type": "markdown",
   "id": "da789d4a-7b30-4160-a832-f81b590fdace",
   "metadata": {},
   "source": [
    "We can see the size of the data and the shape, for what i'm seeing we will need to tokenize and vectorize this dataset"
   ]
  },
  {
   "cell_type": "code",
   "execution_count": 53,
   "id": "3d8e25b2-6489-4502-8afd-cb7fa18d787c",
   "metadata": {},
   "outputs": [
    {
     "data": {
      "text/html": [
       "<div>\n",
       "<style scoped>\n",
       "    .dataframe tbody tr th:only-of-type {\n",
       "        vertical-align: middle;\n",
       "    }\n",
       "\n",
       "    .dataframe tbody tr th {\n",
       "        vertical-align: top;\n",
       "    }\n",
       "\n",
       "    .dataframe thead th {\n",
       "        text-align: right;\n",
       "    }\n",
       "</style>\n",
       "<table border=\"1\" class=\"dataframe\">\n",
       "  <thead>\n",
       "    <tr style=\"text-align: right;\">\n",
       "      <th></th>\n",
       "      <th>label</th>\n",
       "      <th>text</th>\n",
       "    </tr>\n",
       "  </thead>\n",
       "  <tbody>\n",
       "    <tr>\n",
       "      <th>0</th>\n",
       "      <td>1</td>\n",
       "      <td>ounce feather bowl hummingbird opec moment ala...</td>\n",
       "    </tr>\n",
       "    <tr>\n",
       "      <th>1</th>\n",
       "      <td>1</td>\n",
       "      <td>wulvob get your medircations online qnb ikud v...</td>\n",
       "    </tr>\n",
       "    <tr>\n",
       "      <th>2</th>\n",
       "      <td>0</td>\n",
       "      <td>computer connection from cnn com wednesday es...</td>\n",
       "    </tr>\n",
       "    <tr>\n",
       "      <th>3</th>\n",
       "      <td>1</td>\n",
       "      <td>university degree obtain a prosperous future m...</td>\n",
       "    </tr>\n",
       "    <tr>\n",
       "      <th>4</th>\n",
       "      <td>0</td>\n",
       "      <td>thanks for all your answers guys i know i shou...</td>\n",
       "    </tr>\n",
       "  </tbody>\n",
       "</table>\n",
       "</div>"
      ],
      "text/plain": [
       "   label                                               text\n",
       "0      1  ounce feather bowl hummingbird opec moment ala...\n",
       "1      1  wulvob get your medircations online qnb ikud v...\n",
       "2      0   computer connection from cnn com wednesday es...\n",
       "3      1  university degree obtain a prosperous future m...\n",
       "4      0  thanks for all your answers guys i know i shou..."
      ]
     },
     "execution_count": 53,
     "metadata": {},
     "output_type": "execute_result"
    }
   ],
   "source": [
    "data.head()"
   ]
  },
  {
   "cell_type": "code",
   "execution_count": 54,
   "id": "c8d4d4d2-c140-46f6-9f91-68721dc7a6c9",
   "metadata": {},
   "outputs": [
    {
     "name": "stdout",
     "output_type": "stream",
     "text": [
      "preprocess completed\n"
     ]
    }
   ],
   "source": [
    "\n",
    "def preprocess_emails(mails):\n",
    "    mails = re.sub(r'[^a-zA-Z0-9\\s]', '', mails.lower())\n",
    "    token = mails.split()\n",
    "    stop_words = set(stopwords.words('english'))\n",
    "    tokenM = [word for word in token if not word in stop_words]\n",
    "    clean_mails = ' '.join(tokenM)\n",
    "    return(clean_mails)\n",
    "    \n",
    "    \n",
    "emails_prepros = [preprocess_emails(email) for email in data['text']]\n",
    "\n",
    "data['text'] = emails_prepros\n",
    "    \n",
    "print('preprocess completed')    "
   ]
  },
  {
   "cell_type": "code",
   "execution_count": 55,
   "id": "69b9f119-12b0-491c-b304-80b8c9d03711",
   "metadata": {},
   "outputs": [
    {
     "data": {
      "text/html": [
       "<div>\n",
       "<style scoped>\n",
       "    .dataframe tbody tr th:only-of-type {\n",
       "        vertical-align: middle;\n",
       "    }\n",
       "\n",
       "    .dataframe tbody tr th {\n",
       "        vertical-align: top;\n",
       "    }\n",
       "\n",
       "    .dataframe thead th {\n",
       "        text-align: right;\n",
       "    }\n",
       "</style>\n",
       "<table border=\"1\" class=\"dataframe\">\n",
       "  <thead>\n",
       "    <tr style=\"text-align: right;\">\n",
       "      <th></th>\n",
       "      <th>label</th>\n",
       "      <th>text</th>\n",
       "    </tr>\n",
       "  </thead>\n",
       "  <tbody>\n",
       "    <tr>\n",
       "      <th>0</th>\n",
       "      <td>1</td>\n",
       "      <td>ounce feather bowl hummingbird opec moment ala...</td>\n",
       "    </tr>\n",
       "    <tr>\n",
       "      <th>1</th>\n",
       "      <td>1</td>\n",
       "      <td>wulvob get your medircations online qnb ikud v...</td>\n",
       "    </tr>\n",
       "    <tr>\n",
       "      <th>2</th>\n",
       "      <td>0</td>\n",
       "      <td>computer connection from cnn com wednesday es...</td>\n",
       "    </tr>\n",
       "    <tr>\n",
       "      <th>3</th>\n",
       "      <td>1</td>\n",
       "      <td>university degree obtain a prosperous future m...</td>\n",
       "    </tr>\n",
       "    <tr>\n",
       "      <th>4</th>\n",
       "      <td>0</td>\n",
       "      <td>thanks for all your answers guys i know i shou...</td>\n",
       "    </tr>\n",
       "    <tr>\n",
       "      <th>...</th>\n",
       "      <td>...</td>\n",
       "      <td>...</td>\n",
       "    </tr>\n",
       "    <tr>\n",
       "      <th>83443</th>\n",
       "      <td>0</td>\n",
       "      <td>hi given a date how do i get the last date of ...</td>\n",
       "    </tr>\n",
       "    <tr>\n",
       "      <th>83444</th>\n",
       "      <td>1</td>\n",
       "      <td>now you can order software on cd or download i...</td>\n",
       "    </tr>\n",
       "    <tr>\n",
       "      <th>83445</th>\n",
       "      <td>1</td>\n",
       "      <td>dear valued member canadianpharmacy provides a...</td>\n",
       "    </tr>\n",
       "    <tr>\n",
       "      <th>83446</th>\n",
       "      <td>0</td>\n",
       "      <td>subscribe change profile contact us long term ...</td>\n",
       "    </tr>\n",
       "    <tr>\n",
       "      <th>83447</th>\n",
       "      <td>1</td>\n",
       "      <td>get the most out of life ! viagra has helped m...</td>\n",
       "    </tr>\n",
       "  </tbody>\n",
       "</table>\n",
       "<p>83448 rows × 2 columns</p>\n",
       "</div>"
      ],
      "text/plain": [
       "       label                                               text\n",
       "0          1  ounce feather bowl hummingbird opec moment ala...\n",
       "1          1  wulvob get your medircations online qnb ikud v...\n",
       "2          0   computer connection from cnn com wednesday es...\n",
       "3          1  university degree obtain a prosperous future m...\n",
       "4          0  thanks for all your answers guys i know i shou...\n",
       "...      ...                                                ...\n",
       "83443      0  hi given a date how do i get the last date of ...\n",
       "83444      1  now you can order software on cd or download i...\n",
       "83445      1  dear valued member canadianpharmacy provides a...\n",
       "83446      0  subscribe change profile contact us long term ...\n",
       "83447      1  get the most out of life ! viagra has helped m...\n",
       "\n",
       "[83448 rows x 2 columns]"
      ]
     },
     "execution_count": 55,
     "metadata": {},
     "output_type": "execute_result"
    }
   ],
   "source": [
    "df"
   ]
  },
  {
   "cell_type": "code",
   "execution_count": 67,
   "id": "df8ea8b5-e830-4d5b-a9ea-7b00b2ab6661",
   "metadata": {},
   "outputs": [],
   "source": [
    "X = df['text']\n",
    "Y = df['label']\n",
    "\n",
    "X_train, X_test, Y_train, Y_test = train_test_split(X, Y, test_size = 0.2, random_state= 69)"
   ]
  },
  {
   "cell_type": "code",
   "execution_count": 68,
   "id": "434f4a8a-b5f2-40bf-a939-d13e2f115b1f",
   "metadata": {
    "collapsed": true,
    "jupyter": {
     "outputs_hidden": true
    },
    "tags": []
   },
   "outputs": [
    {
     "name": "stdout",
     "output_type": "stream",
     "text": [
      "train data:   (0, 178944)\t0.038784161371494666\n",
      "  (0, 94330)\t0.04240877888274913\n",
      "  (0, 236431)\t0.026733043880102423\n",
      "  (0, 225423)\t0.01693281957657583\n",
      "  (0, 249933)\t0.06836932422178009\n",
      "  (0, 105454)\t0.0467148139812539\n",
      "  (0, 249694)\t0.026146127841705336\n",
      "  (0, 186942)\t0.0387226671295079\n",
      "  (0, 4458)\t0.11313737050794989\n",
      "  (0, 11589)\t0.09417028824386715\n",
      "  (0, 4460)\t0.11313737050794989\n",
      "  (0, 8403)\t0.18111888805795037\n",
      "  (0, 12001)\t0.11730379095267024\n",
      "  (0, 26015)\t0.0393981532428271\n",
      "  (0, 41536)\t0.034796091825123304\n",
      "  (0, 75114)\t0.044082692096735696\n",
      "  (0, 41899)\t0.021712520986997136\n",
      "  (0, 254641)\t0.015295496066858033\n",
      "  (0, 37024)\t0.03843012778265765\n",
      "  (0, 121437)\t0.01805063756033849\n",
      "  (0, 210916)\t0.026118039467490858\n",
      "  (0, 166526)\t0.06311950227298327\n",
      "  (0, 61579)\t0.0633332298506845\n",
      "  (0, 207265)\t0.02985828604158815\n",
      "  (0, 113772)\t0.040878970181401304\n",
      "  :\t:\n",
      "  (66757, 111422)\t0.02098306211918183\n",
      "  (66757, 157381)\t0.02869818787923447\n",
      "  (66757, 151310)\t0.02589476612330671\n",
      "  (66757, 23964)\t0.04201238136978878\n",
      "  (66757, 108290)\t0.0397110279128566\n",
      "  (66757, 26015)\t0.021688597218959257\n",
      "  (66757, 41899)\t0.04781078132193073\n",
      "  (66757, 254641)\t0.03368054856923085\n",
      "  (66757, 121437)\t0.03974734604220312\n",
      "  (66757, 163476)\t0.09720765049590611\n",
      "  (66757, 106081)\t0.0201923210191423\n",
      "  (66757, 125297)\t0.06964110707444925\n",
      "  (66757, 94506)\t0.021103206118454496\n",
      "  (66757, 245369)\t0.022440168649377406\n",
      "  (66757, 27603)\t0.03791029154249183\n",
      "  (66757, 20776)\t0.07641425692502438\n",
      "  (66757, 227455)\t0.08456942649288438\n",
      "  (66757, 30900)\t0.020659871535176084\n",
      "  (66757, 247697)\t0.048351531265725875\n",
      "  (66757, 20485)\t0.07835312312657074\n",
      "  (66757, 224453)\t0.22304598837336592\n",
      "  (66757, 115722)\t0.17103223988541802\n",
      "  (66757, 24991)\t0.022371503490961817\n",
      "  (66757, 120879)\t0.06729375103299651\n",
      "  (66757, 165073)\t0.03742955099207264\n",
      "train labels: [0 1 0 ... 1 1 0]\n"
     ]
    }
   ],
   "source": [
    "train_l = np.array(Y_train)\n",
    "test_l = np.array(Y_test)\n",
    "\n",
    "V = TfidfVectorizer()\n",
    "\n",
    "train_data_V = V.fit_transform(X_train)\n",
    "test_data_V = V.transform(X_test)\n",
    "\n",
    "print(f'train data: {train_data_V}')\n",
    "print(f'train labels: {train_l}')"
   ]
  },
  {
   "cell_type": "code",
   "execution_count": 72,
   "id": "3aae8280-35e8-4a96-a77a-191283a20917",
   "metadata": {},
   "outputs": [
    {
     "name": "stdout",
     "output_type": "stream",
     "text": [
      "this is the accuracy: 0.9839424805272619\n",
      "this is the confusion matrix: \n",
      " [[7651  192]\n",
      " [  76 8771]]\n"
     ]
    }
   ],
   "source": [
    "model = LogisticRegression()\n",
    "\n",
    "model.fit(train_data_V, train_l)\n",
    "\n",
    "prediction = model.predict(test_data_V)\n",
    "\n",
    "accuracy= accuracy_score(test_l, prediction)\n",
    "\n",
    "cm = confusion_matrix(Y_test, prediction)\n",
    "\n",
    "print(f'this is the accuracy: {accuracy}')\n",
    "print(f'this is the confusion matrix: \\n {cm}')"
   ]
  },
  {
   "cell_type": "code",
   "execution_count": 80,
   "id": "d92aa146-557e-406f-bbb0-e808d168ce58",
   "metadata": {},
   "outputs": [],
   "source": [
    "visual_samples = (\"Hurry up! Sale ends soon! Buy one get one free on all electronics. Visit our store now!\",\n",
    "\"You have been selected for an exclusive reward! Claim your free luxury cruise tickets today!\",\n",
    "\"Act now to secure your spot in this once-in-a-lifetime investment opportunity. Guaranteed high returns!\",\n",
    "\"You won a $1000 gift card! Click here to redeem it immediately before the offer expires.\",\n",
    "\"Cheap pharmaceuticals available for a limited time. No prescription needed. Order now!\",\n",
    "\"You're the lucky winner of our grand prize. Send your details to receive a brand new car!\",\n",
    "\"This is not a joke! You are the 1,000,000th visitor and have won an iPhone. Click to claim!\",\n",
    "\"Exclusive deal just for you! 70% off on all designer clothes. Don't miss out, shop now!\",\n",
    "\"Hi, can we reschedule tomorrow's meeting to 2 PM? The current time clashes with another appointment.\",\n",
    "\"Reminder: Your subscription to the magazine is about to expire. Please renew to continue receiving issues.\",\n",
    "\"Dear team, please review the attached project plan and provide your feedback by EOD.\",\n",
    "\"Hi Mom, just checking in. Hope everything is fine. Let's catch up over the weekend.\",\n",
    "\"John, I found a few interesting articles on data science. I'll forward them to you.\",\n",
    "\"Invitation: You're cordially invited to Emma's wedding on June 15th. Please RSVP.\",\n",
    "\"Thank you for shopping with us. Your order has been shipped and should arrive in 3-5 business days.\",\n",
    "\"Congratulations! You've been selected to win a brand new iPhone! Click here to claim your prize now!\")"
   ]
  },
  {
   "cell_type": "code",
   "execution_count": 79,
   "id": "f0bfd392-0387-484b-a33e-67ee92cdc76d",
   "metadata": {},
   "outputs": [],
   "source": [
    "import random"
   ]
  },
  {
   "cell_type": "code",
   "execution_count": 90,
   "id": "4296b979-2ba2-41b0-a851-1b1b6cce1f22",
   "metadata": {
    "tags": []
   },
   "outputs": [
    {
     "name": "stdout",
     "output_type": "stream",
     "text": [
      "this email is classified as NON-SPAM \n",
      " Dear team, please review the attached project plan and provide your feedback by EOD. \n"
     ]
    }
   ],
   "source": [
    "\n",
    "email_sample = random.choice(visual_samples)\n",
    "\n",
    "prepros_sample = preprocess_emails(email_sample)\n",
    "\n",
    "sample_V = V.transform([prepros_sample])\n",
    "\n",
    "sample_pred = model.predict(sample_V)\n",
    "\n",
    "if sample_pred[0] == 1:\n",
    "    print(f'this email is classified as SPAM \\n {email_sample} ')\n",
    "else:    \n",
    "    print(f'this email is classified as NON-SPAM \\n {email_sample} ')"
   ]
  },
  {
   "cell_type": "code",
   "execution_count": null,
   "id": "368cc5f6-427b-44d3-9afb-06f1bcc25862",
   "metadata": {},
   "outputs": [],
   "source": []
  }
 ],
 "metadata": {
  "kernelspec": {
   "display_name": "Python 3 (ipykernel)",
   "language": "python",
   "name": "python3"
  },
  "language_info": {
   "codemirror_mode": {
    "name": "ipython",
    "version": 3
   },
   "file_extension": ".py",
   "mimetype": "text/x-python",
   "name": "python",
   "nbconvert_exporter": "python",
   "pygments_lexer": "ipython3",
   "version": "3.10.9"
  }
 },
 "nbformat": 4,
 "nbformat_minor": 5
}
